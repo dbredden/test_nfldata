{
 "cells": [
  {
   "cell_type": "markdown",
   "metadata": {},
   "source": [
    "#### Sample Passing Data for a given week\n",
    "\n",
    "| Name                | Completions/Attempts | Yards | Average YPA | TD | Int | Sacks | QBR | Rating | CPOE |\n",
    "| ---                 | ---                  | ---   | ---         | ---| --- | ---   | --- | ---    | ---  |\n",
    "| Anthony Richardson  | 20/35                | 250   | 7.1         | 2  | 1   | 3     | 85  | 92.5   | 2.5  |"
   ]
  },
  {
   "cell_type": "code",
   "execution_count": null,
   "metadata": {},
   "outputs": [],
   "source": [
    "import nfl_data_py as nfl\n",
    "import pandas as pd\n",
    "\n",
    "pbp_data = nfl.import_pbp_data([2023])\n",
    "\n",
    "# Filter the data for Week 1, Indianapolis Colts, and Anthony Richardson\n",
    "week_1_colts = pbp_data[\n",
    "    (pbp_data['week'] == 1) & \n",
    "    (pbp_data['posteam'] == 'IND') & \n",
    "    (pbp_data['passer_player_name'] == 'A.Richardson')\n",
    "]\n",
    "\n",
    "# Calculate Completions and Attempts\n",
    "completions = week_1_colts['complete_pass'].sum()\n",
    "attempts = week_1_colts['pass_attempt'].sum()\n",
    "completions_attempts = f\"{completions}/{attempts}\"\n",
    "\n",
    "# Calculate Passing Yards\n",
    "passing_yards = week_1_colts['passing_yards'].sum()\n",
    "\n",
    "# Calculate Average Yards per Attempt (YPA)\n",
    "average_ypa = passing_yards / attempts if attempts > 0 else 0\n",
    "\n",
    "# Calculate Touchdowns\n",
    "touchdowns = week_1_colts['pass_touchdown'].sum()\n",
    "\n",
    "# Calculate Interceptions\n",
    "interceptions = week_1_colts['interception'].sum()\n",
    "\n",
    "# Calculate Sacks\n",
    "sacks = week_1_colts['sack'].sum()\n",
    "\n",
    "# Print the results\n",
    "print(f\"Anthony Richardson's Week 1 stats for the 2023 season:\")\n",
    "print(f\"Completions/Attempts: {completions_attempts}\")\n",
    "print(f\"Passing Yards: {passing_yards}\")\n",
    "print(f\"Average Yards per Attempt (YPA): {average_ypa:.2f}\")\n",
    "print(f\"Touchdowns: {touchdowns}\")\n",
    "print(f\"Interceptions: {interceptions}\")\n",
    "print(f\"Sacks: {sacks}\")\n"
   ]
  }
 ],
 "metadata": {
  "kernelspec": {
   "display_name": "Python 3",
   "language": "python",
   "name": "python3"
  },
  "language_info": {
   "codemirror_mode": {
    "name": "ipython",
    "version": 3
   },
   "file_extension": ".py",
   "mimetype": "text/x-python",
   "name": "python",
   "nbconvert_exporter": "python",
   "pygments_lexer": "ipython3",
   "version": "3.11.3"
  }
 },
 "nbformat": 4,
 "nbformat_minor": 2
}
