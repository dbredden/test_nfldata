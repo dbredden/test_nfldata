{
 "cells": [
  {
   "cell_type": "markdown",
   "metadata": {},
   "source": [
    "#### Play by Play Logs for a given week"
   ]
  },
  {
   "cell_type": "code",
   "execution_count": null,
   "metadata": {},
   "outputs": [],
   "source": [
    "import nfl_data_py as nfl\n",
    "import pandas as pd\n",
    "\n",
    "# Define the week and team\n",
    "week = 7\n",
    "team = 'IND'\n",
    "\n",
    "# Import play-by-play data for the 2023 NFL season\n",
    "pbp_data = nfl.import_pbp_data([2023])\n",
    "\n",
    "# Filter the data for the specified week and team on offense\n",
    "colts_offense_week = pbp_data[\n",
    "    (pbp_data['week'] == week) & \n",
    "    (pbp_data['posteam'] == team)\n",
    "]\n",
    "\n",
    "# Select relevant columns to display\n",
    "relevant_columns = [\n",
    "    'play_id', 'game_id', 'game_date', 'quarter_seconds_remaining', 'qtr', 'down', 'ydstogo', \n",
    "    'yardline_100', 'desc', 'play_type', 'yards_gained', 'posteam', 'posteam_type', 'defteam'\n",
    "]\n",
    "\n",
    "# Display the play-by-play logs for the Colts on offense\n",
    "colts_offense_week_logs = colts_offense_week[relevant_columns]\n",
    "\n",
    "# Print the play-by-play logs\n",
    "print(colts_offense_week_logs)\n",
    "\n",
    "# Export to CSV\n",
    "# colts_offense_week_logs.to_csv('colts_offense_week7_2023.csv', index=False)\n",
    "# print(\"Play-by-play logs exported to 'colts_offense_week7_2023.csv'\")"
   ]
  }
 ],
 "metadata": {
  "kernelspec": {
   "display_name": "Python 3",
   "language": "python",
   "name": "python3"
  },
  "language_info": {
   "codemirror_mode": {
    "name": "ipython",
    "version": 3
   },
   "file_extension": ".py",
   "mimetype": "text/x-python",
   "name": "python",
   "nbconvert_exporter": "python",
   "pygments_lexer": "ipython3",
   "version": "3.11.3"
  }
 },
 "nbformat": 4,
 "nbformat_minor": 2
}
