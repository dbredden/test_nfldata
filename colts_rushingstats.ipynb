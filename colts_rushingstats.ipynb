{
 "cells": [
  {
   "cell_type": "markdown",
   "metadata": {},
   "source": [
    "#### Sample Rushing Data for a given week\n",
    "\n",
    "| Name           | Carries | Yards | Yards per Carry | TD | Longest Run | Rushing Yards over Expectation |\n",
    "| ---            | ---     | ---   | ---             | ---| ---         | ---                            |\n",
    "| Jonathan Taylor|         |       |                 |    |             |        "
   ]
  },
  {
   "cell_type": "code",
   "execution_count": 2,
   "metadata": {},
   "outputs": [
    {
     "name": "stdout",
     "output_type": "stream",
     "text": [
      "2023 done.\n",
      "Downcasting floats.\n",
      "Jonathan Taylor's Week 7 rushing stats for the 2023 season:\n",
      "Carries: 18.0\n",
      "Total Yards: 75.0\n",
      "Yards per Carry: 4.17\n",
      "Touchdowns: 1.0\n",
      "Longest Run: 24.0\n"
     ]
    }
   ],
   "source": [
    "import nfl_data_py as nfl\n",
    "import pandas as pd\n",
    "\n",
    "pbp_data = nfl.import_pbp_data([2023])\n",
    "\n",
    "# Filter the data for Week 7, Indianapolis Colts, and Jonathan Taylor\n",
    "week_7_colts = pbp_data[\n",
    "    (pbp_data['week'] == 7) & \n",
    "    (pbp_data['posteam'] == 'IND') & \n",
    "    (pbp_data['rusher_player_name'] == 'J.Taylor')\n",
    "]\n",
    "\n",
    "# Calculate Carries\n",
    "carries = week_7_colts['rush_attempt'].sum()\n",
    "\n",
    "# Calculate Rushing Yards\n",
    "rushing_yards = week_7_colts['rushing_yards'].sum()\n",
    "\n",
    "# Calculate Yards per Carry (YPC)\n",
    "yards_per_carry = rushing_yards / carries if carries > 0 else 0\n",
    "\n",
    "# Calculate Rushing Touchdowns\n",
    "rushing_touchdowns = week_7_colts['rush_touchdown'].sum()\n",
    "\n",
    "# Calculate Longest Run\n",
    "longest_run = week_7_colts['rushing_yards'].max()\n",
    "\n",
    "# Print the results\n",
    "print(f\"Jonathan Taylor's Week 7 rushing stats for the 2023 season:\")\n",
    "print(f\"Carries: {carries}\")\n",
    "print(f\"Total Yards: {rushing_yards}\")\n",
    "print(f\"Yards per Carry: {yards_per_carry:.2f}\")\n",
    "print(f\"Touchdowns: {rushing_touchdowns}\")\n",
    "print(f\"Longest Run: {longest_run}\")\n"
   ]
  }
 ],
 "metadata": {
  "kernelspec": {
   "display_name": "Python 3",
   "language": "python",
   "name": "python3"
  },
  "language_info": {
   "codemirror_mode": {
    "name": "ipython",
    "version": 3
   },
   "file_extension": ".py",
   "mimetype": "text/x-python",
   "name": "python",
   "nbconvert_exporter": "python",
   "pygments_lexer": "ipython3",
   "version": "3.11.3"
  }
 },
 "nbformat": 4,
 "nbformat_minor": 2
}
